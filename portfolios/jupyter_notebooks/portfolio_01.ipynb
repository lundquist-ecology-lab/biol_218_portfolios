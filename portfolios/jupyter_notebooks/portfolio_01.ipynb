{
 "cells": [
  {
   "attachments": {},
   "cell_type": "markdown",
   "metadata": {},
   "source": [
    "# Introduction\n",
    "\n",
    "In this first portfolio, you will demonstrate your knowledge of the basics of sampling \n",
    "and data types. Answers to each **question** should be entered in the designated \"Answer\" block. Additional text blocks can be added by pressing \"+\" and selecting \"Markdown\" in the drop down menu. \n",
    "\n",
    "All **exercises** need to be done within \"Python\" chunks, with any \n",
    "non-code commented out with \"#\". New code chunks can be added by pressing \"+\" and selecting \"Code\" in\n",
    "the drop down menu.\n",
    "\n",
    "- Total exercises: **01**\n",
    "- Total questions: **13**"
   ]
  },
  {
   "attachments": {},
   "cell_type": "markdown",
   "metadata": {},
   "source": [
    "## Part 01: Samples\n",
    "\n",
    "An Environmental Studies student was interested in the attitudes of students at her college about \n",
    "new sustainability practices at the school. She developed a questionnaire and acquired the \n",
    "list of emails for all enrolled students. She randomly selected 500 students \n",
    "from those email lists to send her questionnaire. \n",
    "\n",
    "A total of 150 of the 500 questionnaires were filled out and returned to her."
   ]
  },
  {
   "attachments": {},
   "cell_type": "markdown",
   "metadata": {},
   "source": [
    "**Question 01**: Define and contrast samples and populations, and parameters and estimates"
   ]
  },
  {
   "attachments": {},
   "cell_type": "markdown",
   "metadata": {},
   "source": [
    "Answer:"
   ]
  },
  {
   "attachments": {},
   "cell_type": "markdown",
   "metadata": {},
   "source": [
    "**Question 02**: Can the 150 students that returned questionnaires be considered \n",
    "as a random sample of all students? Why or why not?"
   ]
  },
  {
   "attachments": {},
   "cell_type": "markdown",
   "metadata": {},
   "source": [
    "Answer:"
   ]
  },
  {
   "attachments": {},
   "cell_type": "markdown",
   "metadata": {},
   "source": [
    "**Question 03**: Explain what type of bias might be at play here."
   ]
  },
  {
   "attachments": {},
   "cell_type": "markdown",
   "metadata": {},
   "source": [
    "Answer:"
   ]
  },
  {
   "attachments": {},
   "cell_type": "markdown",
   "metadata": {},
   "source": [
    "**Question 04**: What is sampling error and how can researchers can minimize it?"
   ]
  },
  {
   "attachments": {},
   "cell_type": "markdown",
   "metadata": {},
   "source": [
    "Answer:"
   ]
  },
  {
   "attachments": {},
   "cell_type": "markdown",
   "metadata": {},
   "source": [
    "## Part 02: Data types\n",
    "\n",
    "Below are some arrays of data"
   ]
  },
  {
   "cell_type": "code",
   "execution_count": null,
   "metadata": {},
   "outputs": [],
   "source": [
    "sepal_length = [4.5, 5.1, 4.3, 5.8, 5.7, 5.4, 5.1]\n",
    "age_days = [118, 484, 664, 1004, 1231, 1372, 1582]\n",
    "trunk_circumference = [30, 58, 87, 115, 120, 142, 145, 33, 69]\n",
    "insect_count = [10, 7, 20, 14, 14, 12, 10]\n",
    "chick_weight = [42, 51, 59, 64, 76, 93, 106, 125, 149]"
   ]
  },
  {
   "attachments": {},
   "cell_type": "markdown",
   "metadata": {},
   "source": [
    "Reproduce the data below and mark each vector as \n",
    "either **continuous** or **discrete** using comments, \"#\"."
   ]
  },
  {
   "cell_type": "code",
   "execution_count": null,
   "metadata": {},
   "outputs": [],
   "source": []
  },
  {
   "attachments": {},
   "cell_type": "markdown",
   "metadata": {},
   "source": [
    "## Part 03: Parameters *vs* estimates\n",
    "\n",
    "Measuring biodiversity, the number and type of animals and plants in a given area is\n",
    "important for informing conservation efforts. To determine the community composition\n",
    "of pollinators in parks in New York City, a researcher placed hundreds of red cup traps\n",
    "filled with water around the city to attract and trap pollinators in the summer of 2019. \n",
    "Each cup was checked daily for insects and the water was refilled. The collected\n",
    "pollinators were pinned and identified in the lab. At the end of the study,\n",
    "the total number of pollinator species (richness) in New York City parks were estimated by\n",
    "the total number of pollinators collected during the study. "
   ]
  },
  {
   "attachments": {},
   "cell_type": "markdown",
   "metadata": {},
   "source": [
    "**Question 05**: What parameter is being estimated in this pollinator study?"
   ]
  },
  {
   "attachments": {},
   "cell_type": "markdown",
   "metadata": {},
   "source": [
    "Answer:"
   ]
  },
  {
   "attachments": {},
   "cell_type": "markdown",
   "metadata": {},
   "source": [
    "**Question 06**: Is the sample of individuals captured in red cup traps \n",
    "likely to be a random sample? Why or why not? Include the two criteria \n",
    "that define a sample as random in your answer."
   ]
  },
  {
   "attachments": {},
   "cell_type": "markdown",
   "metadata": {},
   "source": [
    "Answer:"
   ]
  },
  {
   "attachments": {},
   "cell_type": "markdown",
   "metadata": {},
   "source": [
    "**Question 07**: Is the number of species in the sample likely to be an \n",
    "unbiased estimate? Why or why not?"
   ]
  },
  {
   "attachments": {},
   "cell_type": "markdown",
   "metadata": {},
   "source": [
    "Answer:"
   ]
  },
  {
   "attachments": {},
   "cell_type": "markdown",
   "metadata": {},
   "source": [
    "## Part 04: Explanatory *vs* response variables\n",
    "\n",
    "The courtship of male and female fruit flies is complex and can be\n",
    "impacted by changes in their environment. A scientist exposed thirty\n",
    "male fruit flies to the pesticide Paraquat, which can inhibit neurological\n",
    "function, as well as kept thirty males unexposed. She studied whether \n",
    "mating success was different between the two groups."
   ]
  },
  {
   "attachments": {},
   "cell_type": "markdown",
   "metadata": {},
   "source": [
    "**Question 08**: Which is the explanatory and which is the response variable?"
   ]
  },
  {
   "attachments": {},
   "cell_type": "markdown",
   "metadata": {},
   "source": [
    "Answer:"
   ]
  },
  {
   "attachments": {},
   "cell_type": "markdown",
   "metadata": {},
   "source": [
    "**Question 09**: For each variable, state whether they are categorical or numeric?"
   ]
  },
  {
   "attachments": {},
   "cell_type": "markdown",
   "metadata": {},
   "source": [
    "Answer:"
   ]
  },
  {
   "cell_type": "markdown",
   "metadata": {},
   "source": [
    "**Question 10**: Is this study observational or experimental?"
   ]
  },
  {
   "attachments": {},
   "cell_type": "markdown",
   "metadata": {},
   "source": [
    "Answer:"
   ]
  },
  {
   "attachments": {},
   "cell_type": "markdown",
   "metadata": {},
   "source": [
    "A researcher wanted to compare aquatic insect size in urban and \n",
    "rural streams in upstate New York. The collected individuals of\n",
    "the hellgrammite *Nigronia serricornus* in both an urban and\n",
    "rural stream sites and weighed them in the lab."
   ]
  },
  {
   "attachments": {},
   "cell_type": "markdown",
   "metadata": {},
   "source": [
    "**Question 11**: Which is the explanatory and which is the response variable?"
   ]
  },
  {
   "attachments": {},
   "cell_type": "markdown",
   "metadata": {},
   "source": [
    "Answer:"
   ]
  },
  {
   "attachments": {},
   "cell_type": "markdown",
   "metadata": {},
   "source": [
    "**Question 12**: Which variables are categorical and which are numeric?"
   ]
  },
  {
   "attachments": {},
   "cell_type": "markdown",
   "metadata": {},
   "source": [
    "Answer:"
   ]
  },
  {
   "attachments": {},
   "cell_type": "markdown",
   "metadata": {},
   "source": [
    "**Question 13**: Is this study observational or experimental?"
   ]
  },
  {
   "attachments": {},
   "cell_type": "markdown",
   "metadata": {},
   "source": [
    "Answer:"
   ]
  }
 ],
 "metadata": {
  "language_info": {
   "name": "python"
  },
  "orig_nbformat": 4
 },
 "nbformat": 4,
 "nbformat_minor": 2
}
